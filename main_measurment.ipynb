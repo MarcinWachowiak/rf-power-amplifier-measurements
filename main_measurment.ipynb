{
 "cells": [
  {
   "cell_type": "code",
   "execution_count": 1,
   "id": "704ed884-91e7-4dde-b550-3632cff60997",
   "metadata": {},
   "outputs": [],
   "source": [
    "import sys, os\n",
    "import numpy as np\n",
    "import adi\n",
    "from pysmu import Session, Mode"
   ]
  },
  {
   "cell_type": "code",
   "execution_count": 2,
   "id": "41361236-0fbd-44be-8a99-20e20eac9a7f",
   "metadata": {},
   "outputs": [],
   "source": [
    "sample_rate = int(1e6) # Hz\n",
    "tone_freq = int(1e3) # Hz\n",
    "center_freq = int(2.45e9) - tone_freq # Hz\n",
    "n_samples = 2**12 # number of samples returned per call to rx()\n",
    "\n",
    "sdr = adi.Pluto(\"ip:192.168.0.40\")\n",
    "sdr.sample_rate = sample_rate\n",
    "sdr.tx_rf_bandwidth = sample_rate # filter cutoff, just set it to the same as sample rate\n",
    "sdr.tx_lo = center_freq\n",
    "\n",
    "sdr.gain_control_mode_chan0 = 'manual'\n",
    "sdr.tx_hardwaregain_chan0 = -50 # Increase to increase tx power, valid range is -90 to 0 dB\n",
    "\n",
    "sdr.tx_cyclic_buffer = True"
   ]
  },
  {
   "cell_type": "code",
   "execution_count": 3,
   "id": "eddf1732-ac27-406a-9364-32265fa322eb",
   "metadata": {},
   "outputs": [],
   "source": [
    "session = Session()\n",
    " \n",
    "if not session.devices:\n",
    "    # no devices found\n",
    "    print(\"No devices found!\")\n",
    "    sys.exit(1)\n",
    "\n",
    "# single device operation\n",
    "dev = session.devices[0]\n",
    "# CH A voltage source\n",
    "chan_a = dev.channels['A']\n",
    "chan_a.mode = Mode.HI_Z\n",
    "chan_b = dev.channels['B']\n",
    "chan_b.mode = Mode.HI_Z"
   ]
  },
  {
   "cell_type": "code",
   "execution_count": 4,
   "id": "6a03fe3b-1802-4ee5-90d6-02a29433a5a2",
   "metadata": {},
   "outputs": [
    {
     "name": "stdout",
     "output_type": "stream",
     "text": [
      "Voltage CH A:  (2.490495204925537, 2.4905734062194824, 2.490729570388794, 2.4906513690948486, 2.490729570388794, 2.4905734062194824, 2.490495204925537, 2.4903390407562256, 2.4902608394622803, 2.490495204925537)\n"
     ]
    }
   ],
   "source": [
    "sdr.tx_hardwaregain_chan0 = -10 # valid range: -90 to 0 dB\n",
    "t = np.linspace(0, 1, num=n_samples)\n",
    "tx_samples = np.sin(2*np.pi*t*tone_freq)\n",
    "\n",
    "sdr.tx_destroy_buffer()\n",
    "sdr.tx(tx_samples)\n",
    "\n",
    "samples = dev.get_samples(10)\n",
    "samp_chan_a, samp_chan_b = zip(*samples)\n",
    "v_chan_a, i_chan_a = zip(*samp_chan_a)\n",
    "# v_chan_b, i_chan_b = zip(*samp_chan_b)\n",
    "print(\"Voltage CH A: \", v_chan_a)\n",
    "# print(\"Current CH A: \", i_chan_a)\n",
    "# print(\"Voltage CH B: \", v_chan_b)\n",
    "# print(\"Current CH B: \", i_chan_b)"
   ]
  },
  {
   "cell_type": "code",
   "execution_count": null,
   "id": "aa64afe8-02ae-4a96-a952-b793d19f9eae",
   "metadata": {},
   "outputs": [],
   "source": []
  },
  {
   "cell_type": "code",
   "execution_count": null,
   "id": "4496ae2f-e272-4869-b640-91231b20fc1a",
   "metadata": {},
   "outputs": [],
   "source": []
  }
 ],
 "metadata": {
  "kernelspec": {
   "display_name": "adi_hw",
   "language": "python",
   "name": "adi_hw"
  },
  "language_info": {
   "codemirror_mode": {
    "name": "ipython",
    "version": 3
   },
   "file_extension": ".py",
   "mimetype": "text/x-python",
   "name": "python",
   "nbconvert_exporter": "python",
   "pygments_lexer": "ipython3",
   "version": "3.9.15"
  }
 },
 "nbformat": 4,
 "nbformat_minor": 5
}
